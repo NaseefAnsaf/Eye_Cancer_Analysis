{
 "cells": [
  {
   "cell_type": "markdown",
   "id": "b771d83a",
   "metadata": {},
   "source": [
    "Import the Necessary Libraries"
   ]
  },
  {
   "cell_type": "code",
   "execution_count": 1,
   "id": "9c9a127f",
   "metadata": {},
   "outputs": [],
   "source": [
    "#Import libraries \n",
    "import pandas as pd\n",
    "from datetime import datetime"
   ]
  },
  {
   "cell_type": "markdown",
   "id": "e33aa997",
   "metadata": {},
   "source": [
    "Input the file & Load the data set"
   ]
  },
  {
   "cell_type": "code",
   "execution_count": 3,
   "id": "2fe25bae",
   "metadata": {},
   "outputs": [],
   "source": [
    "# File path\n",
    "input_file = r\"D:\\Projects\\PowerBI Projects\\Cancer Analysis\\eye_cancer_patients.csv\"\n",
    "output_file = r\"D:\\Projects\\PowerBI Projects\\Cancer Analysis\\Eye cancer patients dataset_cleaned.csv\"\n",
    "\n",
    "# Load the dataset\n",
    "df = pd.read_csv(input_file)"
   ]
  },
  {
   "cell_type": "markdown",
   "id": "3143aac6",
   "metadata": {},
   "source": [
    "Normalize the Data Fields"
   ]
  },
  {
   "cell_type": "code",
   "execution_count": 4,
   "id": "9ee2ab1f",
   "metadata": {},
   "outputs": [],
   "source": [
    "# Normalize 'Gender' column\n",
    "gender_map = {'M': 'Male', 'F': 'Female', 'Other': 'Other'}\n",
    "df['Gender'] = df['Gender'].map(gender_map)"
   ]
  },
  {
   "cell_type": "code",
   "execution_count": 5,
   "id": "b6757074",
   "metadata": {},
   "outputs": [],
   "source": [
    "# Normalize 'Surgery_Status' column\n",
    "surgery_status_map = {True: 'Completed', False: 'Not Completed'}\n",
    "df['Surgery_Status'] = df['Surgery_Status'].map(surgery_status_map)"
   ]
  },
  {
   "cell_type": "code",
   "execution_count": 6,
   "id": "14190c56",
   "metadata": {},
   "outputs": [],
   "source": [
    "# Normalize 'Family_History' column\n",
    "family_history_map = {True: 'Yes', False: 'No'}\n",
    "df['Family_History'] = df['Family_History'].map(family_history_map)"
   ]
  },
  {
   "cell_type": "code",
   "execution_count": 7,
   "id": "0598f566",
   "metadata": {},
   "outputs": [],
   "source": [
    "# Normalize 'Date_of_Diagnosis' to DD:MM:YYYY format\n",
    "def normalize_date(date_str):\n",
    "    try:\n",
    "        return pd.to_datetime(date_str).strftime('%d:%m:%Y')\n",
    "    except Exception:\n",
    "        return date_str  # Return original if parsing fails\n",
    "\n",
    "df['Date_of_Diagnosis'] = df['Date_of_Diagnosis'].apply(normalize_date)"
   ]
  },
  {
   "cell_type": "markdown",
   "id": "be28f3c6",
   "metadata": {},
   "source": [
    "Save the outputfile into New CSV file"
   ]
  },
  {
   "cell_type": "code",
   "execution_count": 8,
   "id": "219a1eba",
   "metadata": {},
   "outputs": [
    {
     "name": "stdout",
     "output_type": "stream",
     "text": [
      "Dataset cleaned and saved to: D:\\Projects\\PowerBI Projects\\Cancer Analysis\\Eye cancer patients dataset_cleaned.csv\n"
     ]
    }
   ],
   "source": [
    "# Save the cleaned dataset\n",
    "df.to_csv(output_file, index=False)\n",
    "\n",
    "print(\"Dataset cleaned and saved to:\", output_file)"
   ]
  },
  {
   "cell_type": "code",
   "execution_count": 3,
   "id": "45a32cec",
   "metadata": {},
   "outputs": [],
   "source": [
    "import pandas as pd\n",
    "\n",
    "# File path\n",
    "file_path = r\"D:\\Projects\\PowerBI Projects\\Cancer Analysis\\Eye cancer patients dataset_cleaned.csv\"\n",
    "\n",
    "# Load the dataset\n",
    "df = pd.read_csv(file_path)\n",
    "\n",
    "# Fill empty cells in 'Genetic_Markers' with 'None'\n",
    "df['Genetic_Markers'] = df['Genetic_Markers'].fillna('None')\n",
    "\n",
    "# Save the updated dataset\n",
    "df.to_csv(file_path, index=False)\n"
   ]
  }
 ],
 "metadata": {
  "kernelspec": {
   "display_name": "Python 3",
   "language": "python",
   "name": "python3"
  },
  "language_info": {
   "codemirror_mode": {
    "name": "ipython",
    "version": 3
   },
   "file_extension": ".py",
   "mimetype": "text/x-python",
   "name": "python",
   "nbconvert_exporter": "python",
   "pygments_lexer": "ipython3",
   "version": "3.11.7"
  }
 },
 "nbformat": 4,
 "nbformat_minor": 5
}
